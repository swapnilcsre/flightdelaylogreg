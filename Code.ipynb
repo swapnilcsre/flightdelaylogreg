{
 "cells": [
  {
   "cell_type": "markdown",
   "id": "therapeutic-calibration",
   "metadata": {},
   "source": [
    " # <center> GNR652 Assignment_1   </center>\n",
    "## <center> Flight Delay Prediction using Logistic Regression  </center>"
   ]
  },
  {
   "cell_type": "code",
   "execution_count": null,
   "id": "frequent-headline",
   "metadata": {
    "colab": {
     "base_uri": "https://localhost:8080/",
     "height": 359
    },
    "id": "english-karaoke",
    "outputId": "16312556-35fe-4e65-bc64-3f46b7441985"
   },
   "outputs": [],
   "source": [
    "import pandas as pd\n",
    "import numpy as np\n",
    "import seaborn as sns\n",
    "from matplotlib import pyplot as plt\n",
    "import math\n",
    "flight_data = pd.read_csv(\"FlightDelays.csv\") #/content/drive/MyDrive/ML Assignment 1/\n",
    "flight_data.rename(columns={'Flight Status':'Flight_Status'}, inplace=True)\n",
    "print(flight_data.shape)"
   ]
  },
  {
   "cell_type": "code",
   "execution_count": null,
   "id": "pointed-marketing",
   "metadata": {
    "colab": {
     "base_uri": "https://localhost:8080/"
    },
    "id": "jy99ECYa83ki",
    "outputId": "a9024a36-ab69-4ccd-a0fb-714007712061"
   },
   "outputs": [],
   "source": [
    "flight_data.head(10)"
   ]
  },
  {
   "cell_type": "code",
   "execution_count": null,
   "id": "valuable-spotlight",
   "metadata": {},
   "outputs": [],
   "source": [
    "flight_data.info()"
   ]
  },
  {
   "cell_type": "code",
   "execution_count": null,
   "id": "surgical-documentation",
   "metadata": {},
   "outputs": [],
   "source": [
    "flight_data"
   ]
  },
  {
   "cell_type": "code",
   "execution_count": null,
   "id": "pursuant-booking",
   "metadata": {
    "id": "extreme-silver"
   },
   "outputs": [],
   "source": [
    "delayed_flights = flight_data[flight_data.Flight_Status == 'delayed']"
   ]
  },
  {
   "cell_type": "markdown",
   "id": "native-fiction",
   "metadata": {
    "id": "referenced-nepal"
   },
   "source": [
    "## Exploratory Data Analysis"
   ]
  },
  {
   "cell_type": "code",
   "execution_count": null,
   "id": "retained-circuit",
   "metadata": {
    "colab": {
     "base_uri": "https://localhost:8080/",
     "height": 297
    },
    "id": "willing-trigger",
    "outputId": "0d85045e-fe86-4309-8f43-ca0fd3bd58f7",
    "tags": []
   },
   "outputs": [],
   "source": [
    "sns.countplot(x=\"Flight_Status\", data=flight_data, hue=\"Flight_Status\", palette = 'rocket')"
   ]
  },
  {
   "cell_type": "code",
   "execution_count": null,
   "id": "regulated-christmas",
   "metadata": {},
   "outputs": [],
   "source": [
    "sns.countplot(x=\"DAY_WEEK\", data=flight_data[flight_data.Flight_Status=='delayed'], hue=\"DAY_WEEK\",dodge=False, palette = 'rocket')"
   ]
  },
  {
   "cell_type": "code",
   "execution_count": null,
   "id": "fifth-present",
   "metadata": {},
   "outputs": [],
   "source": [
    "# plt.figure(figsize=(10,8))\n",
    "sns.countplot(x=\"DEST\", data=flight_data[flight_data.Flight_Status=='delayed'], hue=\"ORIGIN\",dodge=False, palette = 'muted')"
   ]
  },
  {
   "cell_type": "code",
   "execution_count": null,
   "id": "embedded-accident",
   "metadata": {
    "colab": {
     "base_uri": "https://localhost:8080/",
     "height": 1000
    },
    "id": "similar-ranking",
    "outputId": "b742deef-1d36-40ed-e44e-99827af99a7d"
   },
   "outputs": [],
   "source": [
    "# sns.pairplot(flight_data, hue=\"Flight_Status\")"
   ]
  },
  {
   "cell_type": "code",
   "execution_count": null,
   "id": "burning-quest",
   "metadata": {
    "id": "affiliated-tongue"
   },
   "outputs": [],
   "source": [
    "sns.countplot(x=\"CARRIER\", hue=\"CARRIER\", data=flight_data[flight_data.Flight_Status=='delayed'],dodge=False, palette = 'Spectral')"
   ]
  },
  {
   "cell_type": "code",
   "execution_count": null,
   "id": "adjustable-lobby",
   "metadata": {
    "id": "timely-allah"
   },
   "outputs": [],
   "source": [
    "sns.countplot(data=delayed_flights,x=\"Weather\",hue='Weather',dodge=False, palette = 'rocket')"
   ]
  },
  {
   "cell_type": "code",
   "execution_count": null,
   "id": "happy-nerve",
   "metadata": {
    "id": "cleared-staff"
   },
   "outputs": [],
   "source": [
    "plt.figure(figsize=(15,10))\n",
    "sns.countplot(x=\"Flight_Status\", hue=\"DAY_WEEK\", data = delayed_flights, palette='rocket')"
   ]
  },
  {
   "cell_type": "code",
   "execution_count": null,
   "id": "formed-compound",
   "metadata": {
    "colab": {
     "base_uri": "https://localhost:8080/",
     "height": 296
    },
    "id": "living-soldier",
    "outputId": "7e9ea034-882b-495d-eab4-3a99ff3ae420"
   },
   "outputs": [],
   "source": [
    "sns.boxplot(x=\"Flight_Status\", y=\"CRS_DEP_TIME\", data = flight_data, palette = 'rocket') "
   ]
  },
  {
   "cell_type": "markdown",
   "id": "absolute-cover",
   "metadata": {
    "id": "short-brush"
   },
   "source": [
    "## Getting Dummy Variables and doing Data Splitting"
   ]
  },
  {
   "cell_type": "code",
   "execution_count": null,
   "id": "verbal-aviation",
   "metadata": {},
   "outputs": [],
   "source": [
    "flight_data = flight_data.drop(columns=['FL_DATE'],axis=1) #dropped as "
   ]
  },
  {
   "cell_type": "code",
   "execution_count": null,
   "id": "applicable-senator",
   "metadata": {
    "colab": {
     "base_uri": "https://localhost:8080/",
     "height": 419
    },
    "id": "designing-disney",
    "outputId": "5beeba58-71ec-421d-89f8-d98d64095e84"
   },
   "outputs": [],
   "source": [
    "flight_data.isnull()"
   ]
  },
  {
   "cell_type": "code",
   "execution_count": null,
   "id": "considerable-evidence",
   "metadata": {
    "colab": {
     "base_uri": "https://localhost:8080/",
     "height": 357
    },
    "id": "aerial-schema",
    "outputId": "8bbac085-7d27-4e11-9d5a-520338b80f54"
   },
   "outputs": [],
   "source": [
    "sns.heatmap(flight_data.isnull())"
   ]
  },
  {
   "cell_type": "markdown",
   "id": "democratic-luxury",
   "metadata": {},
   "source": [
    "### One Hot Encoding and Label Encoding"
   ]
  },
  {
   "cell_type": "code",
   "execution_count": null,
   "id": "original-music",
   "metadata": {
    "colab": {
     "base_uri": "https://localhost:8080/",
     "height": 204
    },
    "id": "typical-theology",
    "outputId": "6574bf51-e70b-44ae-9068-50cccbd5def4"
   },
   "outputs": [],
   "source": [
    "z = flight_data.drop(columns='Flight_Status')\n",
    "y = pd.factorize(flight_data.Flight_Status)[0]\n",
    "x = pd.get_dummies(z)\n",
    "x"
   ]
  },
  {
   "cell_type": "markdown",
   "id": "interim-activity",
   "metadata": {
    "id": "hired-devon"
   },
   "source": [
    "## Feature Selection"
   ]
  },
  {
   "cell_type": "markdown",
   "id": "expanded-assignment",
   "metadata": {},
   "source": [
    "### By Logistic regression"
   ]
  },
  {
   "cell_type": "code",
   "execution_count": null,
   "id": "incorporated-legend",
   "metadata": {
    "id": "RVyCmGFMt1tB"
   },
   "outputs": [],
   "source": [
    "from sklearn.preprocessing import StandardScaler\n",
    "from sklearn.linear_model import LogisticRegression\n",
    "from sklearn.model_selection import train_test_split\n",
    "from sklearn.metrics import classification_report, confusion_matrix, ConfusionMatrixDisplay\n",
    "import seaborn as sns\n",
    "from sklearn.metrics import accuracy_score"
   ]
  },
  {
   "cell_type": "code",
   "execution_count": null,
   "id": "surface-constitution",
   "metadata": {},
   "outputs": [],
   "source": [
    "x_train,x_test,y_train,y_test = train_test_split(x,y, test_size= 0.4, random_state = 1)"
   ]
  },
  {
   "cell_type": "code",
   "execution_count": null,
   "id": "saving-quarterly",
   "metadata": {},
   "outputs": [],
   "source": [
    "scaler = StandardScaler()\n",
    "scaler.fit(x_train)\n",
    "x_scaled = scaler.transform(x_train)\n",
    "x_test = scaler.transform(x_test)"
   ]
  },
  {
   "cell_type": "code",
   "execution_count": null,
   "id": "desperate-importance",
   "metadata": {},
   "outputs": [],
   "source": [
    "logistic_regression = LogisticRegression()\n",
    "logistic_regression.fit(x_scaled,y_train)"
   ]
  },
  {
   "cell_type": "code",
   "execution_count": null,
   "id": "another-jackson",
   "metadata": {},
   "outputs": [],
   "source": [
    "y_pred = logistic_regression.predict(x_test)"
   ]
  },
  {
   "cell_type": "code",
   "execution_count": null,
   "id": "technological-calculator",
   "metadata": {},
   "outputs": [],
   "source": [
    "accuracy = accuracy_score(y_test,y_pred)\n",
    "accuracy"
   ]
  },
  {
   "cell_type": "code",
   "execution_count": null,
   "id": "ranking-furniture",
   "metadata": {},
   "outputs": [],
   "source": [
    "log_odds = logistic_regression.coef_[0]\n",
    "model_coef_ = pd.DataFrame(log_odds, \n",
    "             x.columns, \n",
    "             columns=['coef'])\\\n",
    "            .sort_values(by='coef', ascending=False)"
   ]
  },
  {
   "cell_type": "code",
   "execution_count": null,
   "id": "afraid-relative",
   "metadata": {},
   "outputs": [],
   "source": [
    "plt.figure(figsize=(50,20))\n",
    "filter_coeff = model_coef_\n",
    "bar1 = sns.barplot(data=filter_coeff, x=filter_coeff.index, y='coef', palette = 'Spectral')  \n",
    "plt.xticks(rotation=90)"
   ]
  },
  {
   "cell_type": "code",
   "execution_count": null,
   "id": "closed-mediterranean",
   "metadata": {},
   "outputs": [],
   "source": [
    "log_odds = logistic_regression.coef_[0]\n",
    "model_coef_ = pd.DataFrame(log_odds, \n",
    "             x.columns, \n",
    "             columns=['coef'])\\\n",
    "            .sort_values(by='coef', ascending=False)"
   ]
  },
  {
   "cell_type": "code",
   "execution_count": null,
   "id": "qualified-adelaide",
   "metadata": {},
   "outputs": [],
   "source": [
    "model_coef_3 = model_coef_[model_coef_.coef > 0.25]"
   ]
  },
  {
   "cell_type": "code",
   "execution_count": null,
   "id": "experimental-click",
   "metadata": {},
   "outputs": [],
   "source": [
    "model_coef_3"
   ]
  },
  {
   "cell_type": "code",
   "execution_count": null,
   "id": "crazy-despite",
   "metadata": {},
   "outputs": [],
   "source": [
    "model_coef_4 = model_coef_[model_coef_.coef < -0.25]"
   ]
  },
  {
   "cell_type": "code",
   "execution_count": null,
   "id": "likely-association",
   "metadata": {},
   "outputs": [],
   "source": [
    "model_coef_4"
   ]
  },
  {
   "cell_type": "code",
   "execution_count": null,
   "id": "unknown-motivation",
   "metadata": {},
   "outputs": [],
   "source": [
    "model_coef_5 = [model_coef_3,model_coef_4]"
   ]
  },
  {
   "cell_type": "code",
   "execution_count": null,
   "id": "certain-sandwich",
   "metadata": {},
   "outputs": [],
   "source": [
    "model_coef_5 = pd.concat(model_coef_5)"
   ]
  },
  {
   "cell_type": "markdown",
   "id": "requested-emphasis",
   "metadata": {},
   "source": [
    "###  Now we will plot the coefficients and see how are the values distributed"
   ]
  },
  {
   "cell_type": "code",
   "execution_count": null,
   "id": "conscious-intersection",
   "metadata": {},
   "outputs": [],
   "source": [
    "plt.figure(figsize=(15,10))\n",
    "\n",
    "filter_coeff = model_coef_5\n",
    "bar1 = sns.barplot(data=filter_coeff, x=filter_coeff.index, y='coef', palette = 'Spectral')  \n",
    "plt.xticks(rotation=90)"
   ]
  },
  {
   "cell_type": "code",
   "execution_count": null,
   "id": "drawn-munich",
   "metadata": {},
   "outputs": [],
   "source": [
    "flight_data_new = x[(model_coef_4 + model_coef_3).index]"
   ]
  },
  {
   "cell_type": "code",
   "execution_count": null,
   "id": "steady-executive",
   "metadata": {},
   "outputs": [],
   "source": [
    "flight_data_new"
   ]
  },
  {
   "cell_type": "code",
   "execution_count": null,
   "id": "logical-leisure",
   "metadata": {},
   "outputs": [],
   "source": [
    "x_train,x_test,y_train,y_test = train_test_split(flight_data_new,y, test_size= 0.4, random_state = 650)"
   ]
  },
  {
   "cell_type": "code",
   "execution_count": null,
   "id": "portuguese-animal",
   "metadata": {},
   "outputs": [],
   "source": [
    "scaler = StandardScaler()\n",
    "scaler.fit(x_train)\n",
    "x_scaled = scaler.transform(x_train)\n",
    "x_test = scaler.transform(x_test)"
   ]
  },
  {
   "cell_type": "code",
   "execution_count": null,
   "id": "balanced-coordination",
   "metadata": {},
   "outputs": [],
   "source": [
    "logistic_regression = LogisticRegression()\n",
    "logistic_regression.fit(x_scaled,y_train)"
   ]
  },
  {
   "cell_type": "markdown",
   "id": "maritime-webster",
   "metadata": {
    "id": "S0X6JtzltbpI"
   },
   "source": [
    "# Model Performance\n"
   ]
  },
  {
   "cell_type": "code",
   "execution_count": null,
   "id": "eight-milwaukee",
   "metadata": {},
   "outputs": [],
   "source": [
    "from sklearn.metrics import confusion_matrix\n",
    "confusion_matrix(y_test, y_pred)"
   ]
  },
  {
   "cell_type": "code",
   "execution_count": null,
   "id": "improved-administration",
   "metadata": {},
   "outputs": [],
   "source": [
    "y_pred = logistic_regression.predict(x_test)"
   ]
  },
  {
   "cell_type": "code",
   "execution_count": null,
   "id": "accessory-vaccine",
   "metadata": {},
   "outputs": [],
   "source": [
    "accuracy = accuracy_score(y_test,y_pred)\n",
    "accuracy"
   ]
  },
  {
   "cell_type": "code",
   "execution_count": null,
   "id": "harmful-porter",
   "metadata": {},
   "outputs": [],
   "source": [
    "accuracy_score(y_test, y_pred, normalize=True)"
   ]
  },
  {
   "cell_type": "markdown",
   "id": "breathing-student",
   "metadata": {
    "id": "Sc0Evit6thfW"
   },
   "source": [
    "### Cross Validation"
   ]
  },
  {
   "cell_type": "code",
   "execution_count": null,
   "id": "combined-delicious",
   "metadata": {},
   "outputs": [],
   "source": [
    "# Fit model to training data\n",
    "classifier = LogisticRegression(penalty='l2', tol=1e-6, max_iter=10000)\n",
    "classifier.fit(x_train, y_train)\n",
    "\n",
    "#Cross Validation\n",
    "from sklearn.model_selection import cross_val_score\n",
    "print(cross_val_score(classifier,x,y,cv=10,scoring = 'accuracy').mean())\n",
    "print(cross_val_score(classifier,x,y,cv=10,scoring = 'accuracy').max())"
   ]
  },
  {
   "cell_type": "code",
   "execution_count": null,
   "id": "tested-watts",
   "metadata": {},
   "outputs": [],
   "source": [
    "cross_val_score(classifier,x,y,cv=10,scoring = 'accuracy')"
   ]
  },
  {
   "cell_type": "markdown",
   "id": "blocked-pocket",
   "metadata": {},
   "source": [
    "## Q.6"
   ]
  },
  {
   "cell_type": "code",
   "execution_count": null,
   "id": "moderate-istanbul",
   "metadata": {},
   "outputs": [],
   "source": [
    "df_day6 = delayed_flights.loc[delayed_flights['DAY_WEEK'].isin(['6'])]\n",
    "carriers_nodelay_6 = ['OH', 'UA', 'US', 'CO']\n",
    "carriers_no_delay = df_day6.loc[df_day6['CARRIER'].isin(['OH', 'UA', 'US', 'CO'])]\n",
    "origin = carriers_no_delay.loc[carriers_no_delay['ORIGIN'].isin(['DCA'])]\n",
    "destination = origin.loc[origin['DEST'].isin(['LGA'])]\n",
    "destination"
   ]
  },
  {
   "cell_type": "code",
   "execution_count": null,
   "id": "ordered-monaco",
   "metadata": {},
   "outputs": [],
   "source": [
    "plt.figure(figsize=(20,5))\n",
    "sns.countplot(data=delayed_flights, x = 'DAY_WEEK', hue = 'CARRIER', palette = 'Spectral')"
   ]
  },
  {
   "cell_type": "code",
   "execution_count": null,
   "id": "about-norway",
   "metadata": {},
   "outputs": [],
   "source": [
    "destination"
   ]
  },
  {
   "cell_type": "code",
   "execution_count": null,
   "id": "approximate-chancellor",
   "metadata": {},
   "outputs": [],
   "source": []
  }
 ],
 "metadata": {
  "colab": {
   "name": "Try1.ipynb",
   "provenance": []
  },
  "kernelspec": {
   "display_name": "Python 3",
   "language": "python",
   "name": "python3"
  },
  "language_info": {
   "codemirror_mode": {
    "name": "ipython",
    "version": 3
   },
   "file_extension": ".py",
   "mimetype": "text/x-python",
   "name": "python",
   "nbconvert_exporter": "python",
   "pygments_lexer": "ipython3",
   "version": "3.7.7"
  }
 },
 "nbformat": 4,
 "nbformat_minor": 5
}
